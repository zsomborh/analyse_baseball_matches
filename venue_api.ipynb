{
 "metadata": {
  "language_info": {
   "codemirror_mode": {
    "name": "ipython",
    "version": 3
   },
   "file_extension": ".py",
   "mimetype": "text/x-python",
   "name": "python",
   "nbconvert_exporter": "python",
   "pygments_lexer": "ipython3",
   "version": "3.7.6-final"
  },
  "orig_nbformat": 2,
  "kernelspec": {
   "name": "python3",
   "display_name": "Python 3.7.6 64-bit (conda)",
   "metadata": {
    "interpreter": {
     "hash": "c3271d44e627d7f2d2cdc4e5bd4062cf58993392db6718aea9ae20d9d078f7fb"
    }
   }
  }
 },
 "nbformat": 4,
 "nbformat_minor": 2,
 "cells": [
  {
   "cell_type": "code",
   "execution_count": 2,
   "metadata": {},
   "outputs": [],
   "source": [
    "import pandas as pd \n",
    "import geopy\n",
    "from geopy.geocoders import Nominatim\n",
    "from geopy.extra.rate_limiter import RateLimiter\n",
    "#from geopy import distance"
   ]
  },
  {
   "cell_type": "code",
   "execution_count": 130,
   "metadata": {},
   "outputs": [],
   "source": [
    "df = pd.read_csv('Baseball_Merged.csv')\n"
   ]
  },
  {
   "cell_type": "code",
   "execution_count": 177,
   "metadata": {},
   "outputs": [],
   "source": [
    "# RateLimiter must be used for Nominatim\n",
    "geocoder = RateLimiter(Nominatim(user_agent='ba').geocode, min_delay_seconds=1)\n",
    "venues = df['venue_name'].unique()\n",
    "\n",
    "location_dict = {}\n",
    "\n",
    "for i in venues: \n",
    "    location_dict[i] = geocoder(i)\n"
   ]
  },
  {
   "cell_type": "code",
   "execution_count": 178,
   "metadata": {},
   "outputs": [],
   "source": [
    "# there are erroneous pairings\n",
    "error_pairs = {}\n",
    "for venue in venues:\n",
    "    try:\n",
    "        if location_dict[venue].raw['type'] != 'stadium':\n",
    "            error_pairs[venue] = location_dict[venue].raw['type']\n",
    "    except:\n",
    "        error_pairs[venue] = 'None'\n",
    "\n",
    "# When looking at online, found good string for geopy\n",
    "rename_dict = {'Miller Park':'American Family Field',\n",
    "'O.co Coliseum': 'RingCentral Coliseum',\n",
    "'U.S. Cellular Field' : 'Guaranteed Rate Field',\n",
    "'AT&T Park' : 'Oracle Park',\n",
    "'Oakland Coliseum' : 'RingCentral Coliseum',\n",
    "'Fort Bragg Field' : 'Fort Bragg Field baseball',\n",
    "'Williamsport Little League Classic' : 'Williamsport, Pennsylvania',\n",
    "'Angel Stadium': 'Angel Stadium of Anaheim',\n",
    "'BB&T Ballpark': 'Williamsport, Pennsylvania'\n",
    "}"
   ]
  },
  {
   "cell_type": "code",
   "execution_count": 185,
   "metadata": {},
   "outputs": [],
   "source": [
    "# Get locations to each venue\n",
    "for k,v in rename_dict.items():\n",
    "    location_dict[v] = geocoder(v)\n",
    "\n",
    "for key in [k for k,v in rename_dict.items()]:\n",
    "    if key in location_dict:\n",
    "        del location_dict[key]"
   ]
  },
  {
   "cell_type": "code",
   "execution_count": 187,
   "metadata": {},
   "outputs": [],
   "source": [
    "# we need all date-venue_name pairs for the API \n",
    "subdf = df[['date','venue_name']].drop_duplicates()\n",
    "\n",
    "# we require a new col where new venue names are used\n",
    "to_replace = [k for k,v in rename_dict.items()]\n",
    "\n",
    "new_venue = []\n",
    "\n",
    "for i in subdf['venue_name']:\n",
    "    if i in to_replace:\n",
    "        new_venue.append(rename_dict[i])\n",
    "    else:\n",
    "        new_venue.append(i)\n",
    "\n",
    "subdf['new_venue'] = new_venue\n",
    "\n",
    "# map location based on new venue\n",
    "subdf['location'] = [location_dict[i] for i in subdf['new_venue']]"
   ]
  },
  {
   "cell_type": "code",
   "execution_count": 199,
   "metadata": {},
   "outputs": [],
   "source": [
    "sth = geocoder('Wrigley Field')"
   ]
  },
  {
   "cell_type": "code",
   "execution_count": 207,
   "metadata": {},
   "outputs": [
    {
     "output_type": "execute_result",
     "data": {
      "text/plain": [
       "{'place_id': 258157221,\n",
       " 'licence': 'Data © OpenStreetMap contributors, ODbL 1.0. https://osm.org/copyright',\n",
       " 'osm_type': 'relation',\n",
       " 'osm_id': 1407988,\n",
       " 'boundingbox': ['41.9473101', '41.9490224', '-87.6567241', '-87.6544038'],\n",
       " 'lat': '41.9481225',\n",
       " 'lon': '-87.6563513145702',\n",
       " 'display_name': 'Wrigley Field, 1060, West Addison Street, Wrigleyville, Lake View, Chicago, Lake View Township, Cook County, Illinois, 60613, United States',\n",
       " 'class': 'leisure',\n",
       " 'type': 'stadium',\n",
       " 'importance': 0.7077770838054844}"
      ]
     },
     "metadata": {},
     "execution_count": 207
    }
   ],
   "source": [
    "sth.raw"
   ]
  }
 ]
}