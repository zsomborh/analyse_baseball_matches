{
 "cells": [
  {
   "cell_type": "markdown",
   "metadata": {},
   "source": [
    "# Analysing Baseball game Data\n",
    "## Zsombor Hegedűs & Brúnó Helmeczy\n",
    "\n",
    "#### Prepared for: Coding 3: Data Analysis & Management with Python \n",
    "#### Instructor: Eszter Somos \n",
    "#### MSc Business Analytics @ Central European University"
   ]
  },
  {
   "cell_type": "code",
   "execution_count": 1,
   "metadata": {},
   "outputs": [],
   "source": [
    "import pandas as pd\n",
    "import numpy as np"
   ]
  },
  {
   "cell_type": "code",
   "execution_count": 3,
   "metadata": {},
   "outputs": [],
   "source": [
    "Games = pd.read_csv(\"games.csv\")\n",
    "Atbats = pd.read_csv(\"atbats.csv\")\n",
    "Pitches = pd.read_csv(\"pitches.csv\")"
   ]
  },
  {
   "cell_type": "code",
   "execution_count": 4,
   "metadata": {},
   "outputs": [
    {
     "name": "stdout",
     "output_type": "stream",
     "text": [
      "Index(['attendance', 'away_final_score', 'away_team', 'date', 'elapsed_time',\n",
      "       'g_id', 'home_final_score', 'home_team', 'start_time', 'umpire_1B',\n",
      "       'umpire_2B', 'umpire_3B', 'umpire_HP', 'venue_name', 'weather', 'wind',\n",
      "       'delay'],\n",
      "      dtype='object')\n",
      "Index(['ab_id', 'batter_id', 'event', 'g_id', 'inning', 'o', 'p_score',\n",
      "       'p_throws', 'pitcher_id', 'stand', 'top'],\n",
      "      dtype='object')\n",
      "Index(['px', 'pz', 'start_speed', 'end_speed', 'spin_rate', 'spin_dir',\n",
      "       'break_angle', 'break_length', 'break_y', 'ax', 'ay', 'az', 'sz_bot',\n",
      "       'sz_top', 'type_confidence', 'vx0', 'vy0', 'vz0', 'x', 'x0', 'y', 'y0',\n",
      "       'z0', 'pfx_x', 'pfx_z', 'nasty', 'zone', 'code', 'type', 'pitch_type',\n",
      "       'event_num', 'b_score', 'ab_id', 'b_count', 's_count', 'outs',\n",
      "       'pitch_num', 'on_1b', 'on_2b', 'on_3b'],\n",
      "      dtype='object')\n"
     ]
    }
   ],
   "source": [
    "for df in [Games, Atbats, Pitches]:\n",
    "    print(df.columns)"
   ]
  },
  {
   "cell_type": "code",
   "execution_count": 31,
   "metadata": {},
   "outputs": [],
   "source": [
    "# Games['g_id'] == Atbats['g_id']\n",
    "# Pitches['ab_id'] == Atbats['ab_id']\n",
    "\n",
    "Games = Games[['g_id','attendance','venue_name',\n",
    "               'date','start_time', 'elapsed_time','delay','weather','wind',\n",
    "               'away_team','home_team','away_final_score','home_final_score']]\n",
    "Atbats = Atbats[['ab_id','event','g_id','inning','o','p_score','p_throws','stand','top']]\n",
    "Pitches = Pitches[['ab_id','type','b_count','s_count','outs',\n",
    "                   'pitch_type','pitch_num','spin_rate','start_speed','end_speed',\n",
    "                   'code','zone']]\n",
    "\n",
    "# Merge dataframes:\n",
    "Pitches_n_Atbats = pd.merge(Pitches,Atbats, how = 'left')\n",
    "Df_Merged = pd.merge(Pitches_n_Atbats, Games, how = 'left')\n",
    "\n",
    "Df_Merged.columns\n",
    "\n",
    "Df_Merged.to_csv(\"Baseball_Merged.csv\", index = False)\n",
    "# Column Descriptions:\n",
    "    # ab_id       - Id of at bat\n",
    "    # type        - Pitch Type: CH=Changeup, CU=Curveball, EP=Eephus*, FC=Cutter, FF=Four-seam Fastball, FO=Pitchout (or PO)\n",
    "                            #  FS=Splitter, FT=2-seam Fastball, IN=Intentional ball, KC=Knuckle curve, KN=Knuckeball, \n",
    "                            #  PO=Pitchout (or FO), SC=Screwball, SI=Sinker, SL=Slider,UN=Unknown\n",
    "            # Some occur rarely -> decrease factors to 3-5 most-frequent + 'Others' \n",
    "    # b_count     - Balls hit (in current round, I think)\n",
    "    # s_count     - Strikes   (in current round, I think)\n",
    "    # outs        - How many outs are there for the hitting team in the current inning - should be 0-2\n",
    "    # pitch_type  - Should be same as type \n",
    "    # pitch_num   - Defending team can have many Nr. pitches until 3 outs are made \n",
    "    # spin_rate   - Of ball in rounds per minute (RPM\n",
    "    # start_speed - Ball speed at release\n",
    "    # end_speed   - Ball speed at hit \n",
    "    # code        - \n",
    "    # zone        - \n",
    "    # event       - Outcome of Pitch/Atbat - what the pitch resulted in \n",
    "    # g_id        - \n",
    "    # inning      - should be 1-9 -> Like quarters in NBA/NFL - baseball is played in 9 innings\n",
    "    # o           - \n",
    "    # p_score     - \n",
    "    # p_throws    - \n",
    "    # stand       - Batter Left/Right handed stand\n",
    "    # top         - Yes/No -  Innings consist of 2 halves, the \"top\" (first) & \"bottom\" (second). \n",
    "                            # In each half, one team bats until 3 outs are made, with other team playing defense. \n",
    "    # delay       - Game started late by X minutes\n",
    "    # weather     - weather-description string \n",
    "    # wind        - string with windspeed inside\n",
    "    # away_team\n",
    "    # home_team\n",
    "    # away_final_score\n",
    "    # home_final_score\n",
    "    # \n",
    "    # \n",
    "    # \n",
    "    \n",
    "\n"
   ]
  },
  {
   "cell_type": "code",
   "execution_count": null,
   "metadata": {
    "scrolled": true
   },
   "outputs": [],
   "source": []
  },
  {
   "cell_type": "code",
   "execution_count": null,
   "metadata": {},
   "outputs": [],
   "source": []
  }
 ],
 "metadata": {
  "kernelspec": {
   "display_name": "Python 3",
   "language": "python",
   "name": "python3"
  },
  "language_info": {
   "codemirror_mode": {
    "name": "ipython",
    "version": 3
   },
   "file_extension": ".py",
   "mimetype": "text/x-python",
   "name": "python",
   "nbconvert_exporter": "python",
   "pygments_lexer": "ipython3",
   "version": "3.8.5"
  }
 },
 "nbformat": 4,
 "nbformat_minor": 4
}
