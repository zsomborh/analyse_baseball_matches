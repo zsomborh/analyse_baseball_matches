{
 "cells": [
  {
   "cell_type": "markdown",
   "metadata": {},
   "source": [
    "# Analysing Baseball game Data\n",
    "## Zsombor Hegedűs & Brúnó Helmeczy\n",
    "\n",
    "#### Prepared for: Coding 3: Data Analysis & Management with Python \n",
    "#### Instructor: Eszter Somos \n",
    "#### MSc Business Analytics @ Central European University\n",
    "#### [Github](https://github.com/zsomborh/analyse_baseball_matches) "
   ]
  },
  {
   "cell_type": "code",
   "execution_count": 1,
   "metadata": {},
   "outputs": [],
   "source": [
    "import pandas as pd\n",
    "import numpy as np"
   ]
  },
  {
   "cell_type": "code",
   "execution_count": 2,
   "metadata": {},
   "outputs": [],
   "source": [
    "Games = pd.read_csv(\"games.csv\")\n",
    "Atbats = pd.read_csv(\"atbats.csv\")\n",
    "Pitches = pd.read_csv(\"pitches.csv\")"
   ]
  },
  {
   "cell_type": "code",
   "execution_count": 3,
   "metadata": {},
   "outputs": [
    {
     "name": "stdout",
     "output_type": "stream",
     "text": [
      "Index(['attendance', 'away_final_score', 'away_team', 'date', 'elapsed_time',\n",
      "       'g_id', 'home_final_score', 'home_team', 'start_time', 'umpire_1B',\n",
      "       'umpire_2B', 'umpire_3B', 'umpire_HP', 'venue_name', 'weather', 'wind',\n",
      "       'delay'],\n",
      "      dtype='object')\n",
      "Index(['ab_id', 'batter_id', 'event', 'g_id', 'inning', 'o', 'p_score',\n",
      "       'p_throws', 'pitcher_id', 'stand', 'top'],\n",
      "      dtype='object')\n",
      "Index(['px', 'pz', 'start_speed', 'end_speed', 'spin_rate', 'spin_dir',\n",
      "       'break_angle', 'break_length', 'break_y', 'ax', 'ay', 'az', 'sz_bot',\n",
      "       'sz_top', 'type_confidence', 'vx0', 'vy0', 'vz0', 'x', 'x0', 'y', 'y0',\n",
      "       'z0', 'pfx_x', 'pfx_z', 'nasty', 'zone', 'code', 'type', 'pitch_type',\n",
      "       'event_num', 'b_score', 'ab_id', 'b_count', 's_count', 'outs',\n",
      "       'pitch_num', 'on_1b', 'on_2b', 'on_3b'],\n",
      "      dtype='object')\n"
     ]
    }
   ],
   "source": [
    "for df in [Games, Atbats, Pitches]:\n",
    "    print(df.columns)"
   ]
  },
  {
   "cell_type": "code",
   "execution_count": 4,
   "metadata": {},
   "outputs": [],
   "source": [
    "# Games['g_id'] == Atbats['g_id']\n",
    "# Pitches['ab_id'] == Atbats['ab_id']\n",
    "\n",
    "Games = Games[['g_id','attendance','venue_name',\n",
    "               'date','start_time', 'elapsed_time','delay','weather','wind',\n",
    "               'away_team','home_team','away_final_score','home_final_score']]\n",
    "Atbats = Atbats[['ab_id','event','g_id','inning','o','p_score','p_throws','stand','top']]\n",
    "Pitches = Pitches[['ab_id','type','b_count','s_count','outs',\n",
    "                   'pitch_type','pitch_num','spin_rate','start_speed','end_speed',\n",
    "                   'code','zone']]\n",
    "\n",
    "# Merge dataframes:\n",
    "Pitches_n_Atbats = pd.merge(Pitches,Atbats, how = 'left')\n",
    "Df_Merged = pd.merge(Pitches_n_Atbats, Games, how = 'left')\n",
    "\n",
    "Df_Merged.columns\n",
    "\n",
    "Df_Merged.to_csv(\"Baseball_Merged.csv\", index = False)\n",
    "# Column Descriptions:\n",
    "    # ab_id       - Id of at bat\n",
    "    # type        - Pitch Type: CH=Changeup, CU=Curveball, EP=Eephus*, FC=Cutter, FF=Four-seam Fastball, FO=Pitchout (or PO)\n",
    "                            #  FS=Splitter, FT=2-seam Fastball, IN=Intentional ball, KC=Knuckle curve, KN=Knuckeball, \n",
    "                            #  PO=Pitchout (or FO), SC=Screwball, SI=Sinker, SL=Slider,UN=Unknown\n",
    "            # Some occur rarely -> decrease factors to 3-5 most-frequent + 'Others' \n",
    "    # b_count     - Balls hit (in current round, I think)\n",
    "    # s_count     - Strikes   (in current round, I think)\n",
    "    # outs        - How many outs are there for the hitting team in the current inning - should be 0-2\n",
    "    # pitch_type  - Should be same as type \n",
    "    # pitch_num   - Defending team can have many Nr. pitches until 3 outs are made \n",
    "    # spin_rate   - Of ball in rounds per minute (RPM\n",
    "    # start_speed - Ball speed at release\n",
    "    # end_speed   - Ball speed at hit \n",
    "    # code        - \n",
    "    # zone        - \n",
    "    # event       - Outcome of Pitch/Atbat - what the pitch resulted in \n",
    "    # g_id        - \n",
    "    # inning      - should be 1-9 -> Like quarters in NBA/NFL - baseball is played in 9 innings\n",
    "    # o           - \n",
    "    # p_score     - \n",
    "    # p_throws    - \n",
    "    # stand       - Batter Left/Right handed stand\n",
    "    # top         - Yes/No -  Innings consist of 2 halves, the \"top\" (first) & \"bottom\" (second). \n",
    "                            # In each half, one team bats until 3 outs are made, with other team playing defense. \n",
    "    # delay       - Game started late by X minutes\n",
    "    # weather     - weather-description string \n",
    "    # wind        - string with windspeed inside\n",
    "    # away_team\n",
    "    # home_team\n",
    "    # away_final_score\n",
    "    # home_final_score\n",
    "    # \n",
    "    # \n",
    "    # \n",
    "    \n",
    "\n"
   ]
  },
  {
   "cell_type": "code",
   "execution_count": 5,
   "metadata": {
    "scrolled": true
   },
   "outputs": [
    {
     "data": {
      "text/plain": [
       "ab_id                  0\n",
       "type                   0\n",
       "b_count                0\n",
       "s_count                0\n",
       "outs                   0\n",
       "pitch_type             0\n",
       "pitch_num              0\n",
       "spin_rate              0\n",
       "start_speed            0\n",
       "end_speed              0\n",
       "code                5715\n",
       "zone                   0\n",
       "event                  0\n",
       "g_id                   0\n",
       "inning                 0\n",
       "o                      0\n",
       "p_score                0\n",
       "p_throws               0\n",
       "stand                  0\n",
       "top                    0\n",
       "attendance             0\n",
       "venue_name             0\n",
       "date                   0\n",
       "start_time             0\n",
       "elapsed_time           0\n",
       "delay                  0\n",
       "weather                0\n",
       "wind                   0\n",
       "away_team              0\n",
       "home_team              0\n",
       "away_final_score       0\n",
       "home_final_score       0\n",
       "dtype: int64"
      ]
     },
     "execution_count": 5,
     "metadata": {},
     "output_type": "execute_result"
    }
   ],
   "source": [
    "Df_Merged.dropna(subset = ['zone']).isna().sum()"
   ]
  },
  {
   "cell_type": "code",
   "execution_count": 6,
   "metadata": {},
   "outputs": [
    {
     "data": {
      "text/plain": [
       "array(['C', 'S', 'F', 'B', 'X', 'D', 'E', '*B', 'L', 'W', 'T', 'I', 'M',\n",
       "       'H', 'P', 'V', 'Q', 'R', nan, 'Z'], dtype=object)"
      ]
     },
     "execution_count": 6,
     "metadata": {},
     "output_type": "execute_result"
    }
   ],
   "source": [
    "Df_Merged['code'].unique()"
   ]
  },
  {
   "cell_type": "code",
   "execution_count": 7,
   "metadata": {},
   "outputs": [
    {
     "data": {
      "text/plain": [
       "(array([4.85605025e-05, 1.47018035e-04, 2.26246297e-04, 2.64180521e-04,\n",
       "        2.71506493e-04, 2.83438742e-04, 3.32045886e-04, 4.28264614e-04,\n",
       "        5.57235506e-04, 6.74590992e-04, 6.35822042e-04, 4.18402295e-04,\n",
       "        1.99517354e-04, 7.44080777e-05, 2.10466908e-05, 4.71564248e-06,\n",
       "        9.53743517e-07, 2.94325571e-07, 1.19016898e-07, 5.14667665e-08,\n",
       "        5.46834394e-08, 1.76917010e-08, 1.44750281e-08, 9.65001872e-09,\n",
       "        4.82500936e-09, 1.60833645e-09, 0.00000000e+00, 0.00000000e+00,\n",
       "        1.60833645e-09, 4.82500936e-09]),\n",
       " array([1.21400000e+00, 2.19148833e+02, 4.37083667e+02, 6.55018500e+02,\n",
       "        8.72953333e+02, 1.09088817e+03, 1.30882300e+03, 1.52675783e+03,\n",
       "        1.74469267e+03, 1.96262750e+03, 2.18056233e+03, 2.39849717e+03,\n",
       "        2.61643200e+03, 2.83436683e+03, 3.05230167e+03, 3.27023650e+03,\n",
       "        3.48817133e+03, 3.70610617e+03, 3.92404100e+03, 4.14197583e+03,\n",
       "        4.35991067e+03, 4.57784550e+03, 4.79578033e+03, 5.01371517e+03,\n",
       "        5.23165000e+03, 5.44958483e+03, 5.66751967e+03, 5.88545450e+03,\n",
       "        6.10338933e+03, 6.32132417e+03, 6.53925900e+03]),\n",
       " <BarContainer object of 30 artists>)"
      ]
     },
     "execution_count": 7,
     "metadata": {},
     "output_type": "execute_result"
    },
    {
     "data": {
      "image/png": "[encoded data removed]",
      "text/plain": [
       "<Figure size 432x288 with 1 Axes>"
      ]
     },
     "metadata": {
      "needs_background": "light"
     },
     "output_type": "display_data"
    }
   ],
   "source": [
    "import matplotlib.pyplot as plt \n",
    "%matplotlib inline\n",
    "\n",
    "plt.hist(x  = Df_Merged['spin_rate'], density = True, bins = 30)\n"
   ]
  },
  {
   "cell_type": "code",
   "execution_count": 8,
   "metadata": {},
   "outputs": [
    {
     "data": {
      "text/plain": [
       "(array([1.63024801e-07, 1.63024801e-07, 1.95629762e-06, 4.89074404e-06,\n",
       "        5.70586805e-06, 7.01006646e-06, 1.20638353e-05, 1.40201329e-05,\n",
       "        2.11932242e-05, 2.91814394e-05, 4.82553412e-05, 7.54804830e-05,\n",
       "        1.85033149e-04, 4.24679607e-04, 1.02298063e-03, 2.70441843e-03,\n",
       "        6.41176543e-03, 1.09135323e-02, 1.93184390e-02, 2.76051526e-02,\n",
       "        3.95613916e-02, 4.52807907e-02, 5.66840495e-02, 7.70577479e-02,\n",
       "        9.29895097e-02, 5.98517844e-02, 2.16188819e-02, 2.98791856e-03,\n",
       "        2.62959004e-04, 1.51613065e-05]),\n",
       " array([32.4 , 34.55, 36.7 , 38.85, 41.  , 43.15, 45.3 , 47.45, 49.6 ,\n",
       "        51.75, 53.9 , 56.05, 58.2 , 60.35, 62.5 , 64.65, 66.8 , 68.95,\n",
       "        71.1 , 73.25, 75.4 , 77.55, 79.7 , 81.85, 84.  , 86.15, 88.3 ,\n",
       "        90.45, 92.6 , 94.75, 96.9 ]),\n",
       " <BarContainer object of 30 artists>)"
      ]
     },
     "execution_count": 8,
     "metadata": {},
     "output_type": "execute_result"
    },
    {
     "data": {
      "image/png": "[encoded data removed]",
      "text/plain": [
       "<Figure size 432x288 with 1 Axes>"
      ]
     },
     "metadata": {
      "needs_background": "light"
     },
     "output_type": "display_data"
    }
   ],
   "source": [
    "import matplotlib.pyplot as plt \n",
    "%matplotlib inline\n",
    "\n",
    "plt.hist(x  = Df_Merged['start_speed'], density = True, bins = 30)\n",
    "plt.hist(x  = Df_Merged['end_speed'], density = True, bins = 30)\n"
   ]
  },
  {
   "cell_type": "code",
   "execution_count": 9,
   "metadata": {},
   "outputs": [
    {
     "data": {
      "text/plain": [
       "array([ 3.,  5.,  1., 13.,  6.,  7., 14., 11.,  9.,  2.,  8.,  4., 12.,\n",
       "       nan])"
      ]
     },
     "execution_count": 9,
     "metadata": {},
     "output_type": "execute_result"
    }
   ],
   "source": [
    "Df_Merged['zone'].unique()"
   ]
  },
  {
   "cell_type": "code",
   "execution_count": 10,
   "metadata": {},
   "outputs": [
    {
     "data": {
      "text/plain": [
       "2867154"
      ]
     },
     "execution_count": 10,
     "metadata": {},
     "output_type": "execute_result"
    }
   ],
   "source": [
    "len(Df_Merged)"
   ]
  },
  {
   "cell_type": "markdown",
   "metadata": {},
   "source": [
    "## Cleaning"
   ]
  },
  {
   "cell_type": "code",
   "execution_count": 11,
   "metadata": {},
   "outputs": [
    {
     "data": {
      "text/plain": [
       "ab_id               0\n",
       "type                0\n",
       "b_count             0\n",
       "s_count             0\n",
       "outs                0\n",
       "pitch_type          0\n",
       "pitch_num           0\n",
       "spin_rate           0\n",
       "start_speed         0\n",
       "end_speed           0\n",
       "code                0\n",
       "zone                0\n",
       "event               0\n",
       "g_id                0\n",
       "inning              0\n",
       "o                   0\n",
       "p_score             0\n",
       "p_throws            0\n",
       "stand               0\n",
       "top                 0\n",
       "attendance          0\n",
       "venue_name          0\n",
       "date                0\n",
       "start_time          0\n",
       "elapsed_time        0\n",
       "delay               0\n",
       "weather             0\n",
       "wind                0\n",
       "away_team           0\n",
       "home_team           0\n",
       "away_final_score    0\n",
       "home_final_score    0\n",
       "dtype: int64"
      ]
     },
     "execution_count": 11,
     "metadata": {},
     "output_type": "execute_result"
    }
   ],
   "source": [
    "Df_Merged.dropna(subset = ['zone'], inplace = True)\n",
    "Df_Merged.loc[Df_Merged['code'].isna(),['code']] = 'Unknown'\n",
    "Df_Merged.isna().sum()\n",
    "\n",
    "# TODO1: Look at extreme values \n",
    "# TODO2: Aggregate data to some levels\n",
    "# TODO3: Correlations - looking at histograms\n",
    "# TODO4: Add commentary for possible feature engineering"
   ]
  },
  {
   "cell_type": "code",
   "execution_count": 37,
   "metadata": {},
   "outputs": [
    {
     "name": "stdout",
     "output_type": "stream",
     "text": [
      "['S' 'B' 'X']\n",
      "3\n",
      "[0. 1. 2. 3. 4.]\n",
      "5\n",
      "[0. 1. 2.]\n",
      "3\n",
      "[0. 1. 2.]\n",
      "3\n",
      "['FF' 'CU' 'FC' 'SI' 'CH' 'FT' 'IN' 'SL' 'KC' 'EP' 'FS' 'FO' 'PO' 'KN'\n",
      " 'UN' 'SC' 'FA' 'AB']\n",
      "18\n"
     ]
    },
    {
     "data": {
      "text/plain": [
       "2430"
      ]
     },
     "execution_count": 37,
     "metadata": {},
     "output_type": "execute_result"
    }
   ],
   "source": [
    "# Aggregation -> To per Game -> 9711 & game situations i.e. type, b_count, s_count, outs, pitch_type\n",
    "for col in ['type','b_count','s_count','outs','pitch_type']:\n",
    "    print(Df_Merged[col].unique())\n",
    "    print(len(Df_Merged[col].unique()))\n",
    "# Pitch_Type -> Coerce  \n",
    " # type        - Pitch Type: CH=Changeup, CU=Curveball, EP=Eephus*, FC=Cutter, FF=Four-seam Fastball, FO=Pitchout (or PO)\n",
    "                            #  FS=Splitter, FT=2-seam Fastball, IN=Intentional ball, KC=Knuckle curve, KN=Knuckeball, \n",
    "                            #  PO=Pitchout (or FO), SC=Screwball, SI=Sinker, SL=Slider,UN=Unknown\n",
    "            # Some occur rarely -> decrease factors to 3-5 most-frequent + 'Others' \n"
   ]
  },
  {
   "cell_type": "code",
   "execution_count": 82,
   "metadata": {},
   "outputs": [
    {
     "name": "stderr",
     "output_type": "stream",
     "text": [
      "<ipython-input-82-3540df589148>:11: SettingWithCopyWarning: \n",
      "A value is trying to be set on a copy of a slice from a DataFrame\n",
      "\n",
      "See the caveats in the documentation: https://pandas.pydata.org/pandas-docs/stable/user_guide/indexing.html#returning-a-view-versus-a-copy\n",
      "  df['pitch_type'][df['pitch_type'] == 'FT' ] = 'FF'\n",
      "<ipython-input-82-3540df589148>:12: SettingWithCopyWarning: \n",
      "A value is trying to be set on a copy of a slice from a DataFrame\n",
      "\n",
      "See the caveats in the documentation: https://pandas.pydata.org/pandas-docs/stable/user_guide/indexing.html#returning-a-view-versus-a-copy\n",
      "  df['pitch_type'][df['pitch_type'] == 'FO' ] = 'PO'\n",
      "<ipython-input-82-3540df589148>:13: SettingWithCopyWarning: \n",
      "A value is trying to be set on a copy of a slice from a DataFrame\n",
      "\n",
      "See the caveats in the documentation: https://pandas.pydata.org/pandas-docs/stable/user_guide/indexing.html#returning-a-view-versus-a-copy\n",
      "  df['pitch_type'][(df['pitch_type']=='IN') | (df['pitch_type']=='EP') | (df['pitch_type']=='FO') | (df['pitch_type']=='PO') | (df['pitch_type']=='SC') | (df['pitch_type']=='UN') | (df['pitch_type']=='AB') | (df['pitch_type']=='FA') ] = 'Other'\n"
     ]
    },
    {
     "data": {
      "text/plain": [
       "pitch_type\n",
       "FF       1352860\n",
       "SL        450578\n",
       "CH        292789\n",
       "SI        242504\n",
       "CU        234391\n",
       "FC        149756\n",
       "KC         66484\n",
       "FS         43705\n",
       "KN         11260\n",
       "Other       8638\n",
       "dtype: int64"
      ]
     },
     "execution_count": 82,
     "metadata": {},
     "output_type": "execute_result"
    }
   ],
   "source": [
    "# FF = FT -> Fastball\n",
    "# SL\n",
    "# CH\n",
    "# SI\n",
    "# CU\n",
    "# FO = PO -> Pitchout\n",
    "# TO coerce to 'Other': IN, EP, FO, PO, SC, UN, AB, FA\n",
    "\n",
    "df = Df_Merged.copy()\n",
    "df['pitch_type'][df['pitch_type'] == 'FT' ] = 'FF'\n",
    "df['pitch_type'][df['pitch_type'] == 'FO' ] = 'PO'\n",
    "df['pitch_type'][(df['pitch_type']=='IN') | (df['pitch_type']=='EP') | (df['pitch_type']=='FO') | (df['pitch_type']=='PO') | (df['pitch_type']=='SC') | (df['pitch_type']=='UN') | (df['pitch_type']=='AB') | (df['pitch_type']=='FA') ] = 'Other'\n",
    "\n",
    "#df.groupby(['pitch_type']).size().sort_values(ascending=False)"
   ]
  },
  {
   "cell_type": "code",
   "execution_count": 84,
   "metadata": {},
   "outputs": [
    {
     "data": {
      "text/html": [
       "<div>\n",
       "<style scoped>\n",
       "    .dataframe tbody tr th:only-of-type {\n",
       "        vertical-align: middle;\n",
       "    }\n",
       "\n",
       "    .dataframe tbody tr th {\n",
       "        vertical-align: top;\n",
       "    }\n",
       "\n",
       "    .dataframe thead th {\n",
       "        text-align: right;\n",
       "    }\n",
       "</style>\n",
       "<table border=\"1\" class=\"dataframe\">\n",
       "  <thead>\n",
       "    <tr style=\"text-align: right;\">\n",
       "      <th></th>\n",
       "      <th></th>\n",
       "      <th></th>\n",
       "      <th></th>\n",
       "      <th></th>\n",
       "      <th>ab_id</th>\n",
       "      <th>pitch_num</th>\n",
       "      <th>spin_rate</th>\n",
       "      <th>start_speed</th>\n",
       "      <th>end_speed</th>\n",
       "      <th>zone</th>\n",
       "      <th>inning</th>\n",
       "      <th>o</th>\n",
       "      <th>p_score</th>\n",
       "      <th>top</th>\n",
       "      <th>attendance</th>\n",
       "      <th>elapsed_time</th>\n",
       "      <th>delay</th>\n",
       "      <th>away_final_score</th>\n",
       "      <th>home_final_score</th>\n",
       "    </tr>\n",
       "    <tr>\n",
       "      <th>g_id</th>\n",
       "      <th>b_count</th>\n",
       "      <th>s_count</th>\n",
       "      <th>outs</th>\n",
       "      <th>pitch_type</th>\n",
       "      <th></th>\n",
       "      <th></th>\n",
       "      <th></th>\n",
       "      <th></th>\n",
       "      <th></th>\n",
       "      <th></th>\n",
       "      <th></th>\n",
       "      <th></th>\n",
       "      <th></th>\n",
       "      <th></th>\n",
       "      <th></th>\n",
       "      <th></th>\n",
       "      <th></th>\n",
       "      <th></th>\n",
       "      <th></th>\n",
       "    </tr>\n",
       "  </thead>\n",
       "  <tbody>\n",
       "    <tr>\n",
       "      <th rowspan=\"5\" valign=\"top\">201500001</th>\n",
       "      <th rowspan=\"5\" valign=\"top\">0.0</th>\n",
       "      <th rowspan=\"5\" valign=\"top\">0.0</th>\n",
       "      <th rowspan=\"5\" valign=\"top\">0.0</th>\n",
       "      <th>CU</th>\n",
       "      <td>2.015000e+09</td>\n",
       "      <td>1.000000</td>\n",
       "      <td>940.998000</td>\n",
       "      <td>72.700000</td>\n",
       "      <td>67.300000</td>\n",
       "      <td>14.000000</td>\n",
       "      <td>5.000000</td>\n",
       "      <td>0.000000</td>\n",
       "      <td>0.000000</td>\n",
       "      <td>1.000000</td>\n",
       "      <td>35055.0</td>\n",
       "      <td>184.0</td>\n",
       "      <td>0.0</td>\n",
       "      <td>3.0</td>\n",
       "      <td>0.0</td>\n",
       "    </tr>\n",
       "    <tr>\n",
       "      <th>FC</th>\n",
       "      <td>2.015000e+09</td>\n",
       "      <td>1.000000</td>\n",
       "      <td>1347.824222</td>\n",
       "      <td>86.088889</td>\n",
       "      <td>79.688889</td>\n",
       "      <td>8.444444</td>\n",
       "      <td>4.000000</td>\n",
       "      <td>0.666667</td>\n",
       "      <td>1.666667</td>\n",
       "      <td>0.333333</td>\n",
       "      <td>35055.0</td>\n",
       "      <td>184.0</td>\n",
       "      <td>0.0</td>\n",
       "      <td>3.0</td>\n",
       "      <td>0.0</td>\n",
       "    </tr>\n",
       "    <tr>\n",
       "      <th>FF</th>\n",
       "      <td>2.015000e+09</td>\n",
       "      <td>1.000000</td>\n",
       "      <td>2305.591077</td>\n",
       "      <td>91.607692</td>\n",
       "      <td>83.807692</td>\n",
       "      <td>9.153846</td>\n",
       "      <td>5.076923</td>\n",
       "      <td>0.692308</td>\n",
       "      <td>0.923077</td>\n",
       "      <td>0.615385</td>\n",
       "      <td>35055.0</td>\n",
       "      <td>184.0</td>\n",
       "      <td>0.0</td>\n",
       "      <td>3.0</td>\n",
       "      <td>0.0</td>\n",
       "    </tr>\n",
       "    <tr>\n",
       "      <th>SI</th>\n",
       "      <td>2.015000e+09</td>\n",
       "      <td>1.000000</td>\n",
       "      <td>2260.560667</td>\n",
       "      <td>89.466667</td>\n",
       "      <td>82.166667</td>\n",
       "      <td>13.333333</td>\n",
       "      <td>2.666667</td>\n",
       "      <td>0.666667</td>\n",
       "      <td>1.000000</td>\n",
       "      <td>0.333333</td>\n",
       "      <td>35055.0</td>\n",
       "      <td>184.0</td>\n",
       "      <td>0.0</td>\n",
       "      <td>3.0</td>\n",
       "      <td>0.0</td>\n",
       "    </tr>\n",
       "    <tr>\n",
       "      <th>SL</th>\n",
       "      <td>2.015000e+09</td>\n",
       "      <td>1.000000</td>\n",
       "      <td>338.231000</td>\n",
       "      <td>81.800000</td>\n",
       "      <td>75.400000</td>\n",
       "      <td>14.000000</td>\n",
       "      <td>8.000000</td>\n",
       "      <td>1.000000</td>\n",
       "      <td>0.000000</td>\n",
       "      <td>1.000000</td>\n",
       "      <td>35055.0</td>\n",
       "      <td>184.0</td>\n",
       "      <td>0.0</td>\n",
       "      <td>3.0</td>\n",
       "      <td>0.0</td>\n",
       "    </tr>\n",
       "    <tr>\n",
       "      <th>...</th>\n",
       "      <th>...</th>\n",
       "      <th>...</th>\n",
       "      <th>...</th>\n",
       "      <th>...</th>\n",
       "      <td>...</td>\n",
       "      <td>...</td>\n",
       "      <td>...</td>\n",
       "      <td>...</td>\n",
       "      <td>...</td>\n",
       "      <td>...</td>\n",
       "      <td>...</td>\n",
       "      <td>...</td>\n",
       "      <td>...</td>\n",
       "      <td>...</td>\n",
       "      <td>...</td>\n",
       "      <td>...</td>\n",
       "      <td>...</td>\n",
       "      <td>...</td>\n",
       "      <td>...</td>\n",
       "    </tr>\n",
       "    <tr>\n",
       "      <th rowspan=\"5\" valign=\"top\">201802431</th>\n",
       "      <th rowspan=\"5\" valign=\"top\">3.0</th>\n",
       "      <th rowspan=\"5\" valign=\"top\">2.0</th>\n",
       "      <th>1.0</th>\n",
       "      <th>SL</th>\n",
       "      <td>2.018186e+09</td>\n",
       "      <td>6.500000</td>\n",
       "      <td>1333.528500</td>\n",
       "      <td>82.450000</td>\n",
       "      <td>76.050000</td>\n",
       "      <td>5.500000</td>\n",
       "      <td>5.000000</td>\n",
       "      <td>2.000000</td>\n",
       "      <td>1.000000</td>\n",
       "      <td>0.000000</td>\n",
       "      <td>38450.0</td>\n",
       "      <td>186.0</td>\n",
       "      <td>0.0</td>\n",
       "      <td>3.0</td>\n",
       "      <td>1.0</td>\n",
       "    </tr>\n",
       "    <tr>\n",
       "      <th rowspan=\"4\" valign=\"top\">2.0</th>\n",
       "      <th>CU</th>\n",
       "      <td>2.018186e+09</td>\n",
       "      <td>7.000000</td>\n",
       "      <td>1200.707000</td>\n",
       "      <td>76.800000</td>\n",
       "      <td>70.800000</td>\n",
       "      <td>7.000000</td>\n",
       "      <td>4.000000</td>\n",
       "      <td>3.000000</td>\n",
       "      <td>0.000000</td>\n",
       "      <td>1.000000</td>\n",
       "      <td>38450.0</td>\n",
       "      <td>186.0</td>\n",
       "      <td>0.0</td>\n",
       "      <td>3.0</td>\n",
       "      <td>1.0</td>\n",
       "    </tr>\n",
       "    <tr>\n",
       "      <th>FF</th>\n",
       "      <td>2.018186e+09</td>\n",
       "      <td>6.750000</td>\n",
       "      <td>2264.102500</td>\n",
       "      <td>96.650000</td>\n",
       "      <td>88.175000</td>\n",
       "      <td>6.000000</td>\n",
       "      <td>8.250000</td>\n",
       "      <td>2.250000</td>\n",
       "      <td>2.500000</td>\n",
       "      <td>0.000000</td>\n",
       "      <td>38450.0</td>\n",
       "      <td>186.0</td>\n",
       "      <td>0.0</td>\n",
       "      <td>3.0</td>\n",
       "      <td>1.0</td>\n",
       "    </tr>\n",
       "    <tr>\n",
       "      <th>SI</th>\n",
       "      <td>2.018186e+09</td>\n",
       "      <td>6.500000</td>\n",
       "      <td>2303.056000</td>\n",
       "      <td>94.100000</td>\n",
       "      <td>87.100000</td>\n",
       "      <td>10.500000</td>\n",
       "      <td>8.000000</td>\n",
       "      <td>3.000000</td>\n",
       "      <td>1.000000</td>\n",
       "      <td>1.000000</td>\n",
       "      <td>38450.0</td>\n",
       "      <td>186.0</td>\n",
       "      <td>0.0</td>\n",
       "      <td>3.0</td>\n",
       "      <td>1.0</td>\n",
       "    </tr>\n",
       "    <tr>\n",
       "      <th>SL</th>\n",
       "      <td>2.018186e+09</td>\n",
       "      <td>7.666667</td>\n",
       "      <td>677.910333</td>\n",
       "      <td>84.333333</td>\n",
       "      <td>78.500000</td>\n",
       "      <td>7.666667</td>\n",
       "      <td>7.333333</td>\n",
       "      <td>2.666667</td>\n",
       "      <td>1.666667</td>\n",
       "      <td>0.333333</td>\n",
       "      <td>38450.0</td>\n",
       "      <td>186.0</td>\n",
       "      <td>0.0</td>\n",
       "      <td>3.0</td>\n",
       "      <td>1.0</td>\n",
       "    </tr>\n",
       "  </tbody>\n",
       "</table>\n",
       "<p>1099256 rows × 15 columns</p>\n",
       "</div>"
      ],
      "text/plain": [
       "                                                  ab_id  pitch_num  \\\n",
       "g_id      b_count s_count outs pitch_type                            \n",
       "201500001 0.0     0.0     0.0  CU          2.015000e+09   1.000000   \n",
       "                               FC          2.015000e+09   1.000000   \n",
       "                               FF          2.015000e+09   1.000000   \n",
       "                               SI          2.015000e+09   1.000000   \n",
       "                               SL          2.015000e+09   1.000000   \n",
       "...                                                 ...        ...   \n",
       "201802431 3.0     2.0     1.0  SL          2.018186e+09   6.500000   \n",
       "                          2.0  CU          2.018186e+09   7.000000   \n",
       "                               FF          2.018186e+09   6.750000   \n",
       "                               SI          2.018186e+09   6.500000   \n",
       "                               SL          2.018186e+09   7.666667   \n",
       "\n",
       "                                             spin_rate  start_speed  \\\n",
       "g_id      b_count s_count outs pitch_type                             \n",
       "201500001 0.0     0.0     0.0  CU           940.998000    72.700000   \n",
       "                               FC          1347.824222    86.088889   \n",
       "                               FF          2305.591077    91.607692   \n",
       "                               SI          2260.560667    89.466667   \n",
       "                               SL           338.231000    81.800000   \n",
       "...                                                ...          ...   \n",
       "201802431 3.0     2.0     1.0  SL          1333.528500    82.450000   \n",
       "                          2.0  CU          1200.707000    76.800000   \n",
       "                               FF          2264.102500    96.650000   \n",
       "                               SI          2303.056000    94.100000   \n",
       "                               SL           677.910333    84.333333   \n",
       "\n",
       "                                           end_speed       zone    inning  \\\n",
       "g_id      b_count s_count outs pitch_type                                   \n",
       "201500001 0.0     0.0     0.0  CU          67.300000  14.000000  5.000000   \n",
       "                               FC          79.688889   8.444444  4.000000   \n",
       "                               FF          83.807692   9.153846  5.076923   \n",
       "                               SI          82.166667  13.333333  2.666667   \n",
       "                               SL          75.400000  14.000000  8.000000   \n",
       "...                                              ...        ...       ...   \n",
       "201802431 3.0     2.0     1.0  SL          76.050000   5.500000  5.000000   \n",
       "                          2.0  CU          70.800000   7.000000  4.000000   \n",
       "                               FF          88.175000   6.000000  8.250000   \n",
       "                               SI          87.100000  10.500000  8.000000   \n",
       "                               SL          78.500000   7.666667  7.333333   \n",
       "\n",
       "                                                  o   p_score       top  \\\n",
       "g_id      b_count s_count outs pitch_type                                 \n",
       "201500001 0.0     0.0     0.0  CU          0.000000  0.000000  1.000000   \n",
       "                               FC          0.666667  1.666667  0.333333   \n",
       "                               FF          0.692308  0.923077  0.615385   \n",
       "                               SI          0.666667  1.000000  0.333333   \n",
       "                               SL          1.000000  0.000000  1.000000   \n",
       "...                                             ...       ...       ...   \n",
       "201802431 3.0     2.0     1.0  SL          2.000000  1.000000  0.000000   \n",
       "                          2.0  CU          3.000000  0.000000  1.000000   \n",
       "                               FF          2.250000  2.500000  0.000000   \n",
       "                               SI          3.000000  1.000000  1.000000   \n",
       "                               SL          2.666667  1.666667  0.333333   \n",
       "\n",
       "                                           attendance  elapsed_time  delay  \\\n",
       "g_id      b_count s_count outs pitch_type                                    \n",
       "201500001 0.0     0.0     0.0  CU             35055.0         184.0    0.0   \n",
       "                               FC             35055.0         184.0    0.0   \n",
       "                               FF             35055.0         184.0    0.0   \n",
       "                               SI             35055.0         184.0    0.0   \n",
       "                               SL             35055.0         184.0    0.0   \n",
       "...                                               ...           ...    ...   \n",
       "201802431 3.0     2.0     1.0  SL             38450.0         186.0    0.0   \n",
       "                          2.0  CU             38450.0         186.0    0.0   \n",
       "                               FF             38450.0         186.0    0.0   \n",
       "                               SI             38450.0         186.0    0.0   \n",
       "                               SL             38450.0         186.0    0.0   \n",
       "\n",
       "                                           away_final_score  home_final_score  \n",
       "g_id      b_count s_count outs pitch_type                                      \n",
       "201500001 0.0     0.0     0.0  CU                       3.0               0.0  \n",
       "                               FC                       3.0               0.0  \n",
       "                               FF                       3.0               0.0  \n",
       "                               SI                       3.0               0.0  \n",
       "                               SL                       3.0               0.0  \n",
       "...                                                     ...               ...  \n",
       "201802431 3.0     2.0     1.0  SL                       3.0               1.0  \n",
       "                          2.0  CU                       3.0               1.0  \n",
       "                               FF                       3.0               1.0  \n",
       "                               SI                       3.0               1.0  \n",
       "                               SL                       3.0               1.0  \n",
       "\n",
       "[1099256 rows x 15 columns]"
      ]
     },
     "execution_count": 84,
     "metadata": {},
     "output_type": "execute_result"
    }
   ],
   "source": [
    "df.groupby(['g_id','b_count','s_count','outs','pitch_type']).mean()"
   ]
  },
  {
   "cell_type": "code",
   "execution_count": 72,
   "metadata": {},
   "outputs": [
    {
     "data": {
      "text/plain": [
       "pitch_type\n",
       "FF    1352860\n",
       "SL     450578\n",
       "CH     292789\n",
       "SI     242504\n",
       "CU     234391\n",
       "FC     149756\n",
       "KC      66484\n",
       "FS      43705\n",
       "KN      11260\n",
       "IN       6197\n",
       "EP        815\n",
       "FO        810\n",
       "PO        628\n",
       "SC        113\n",
       "UN         57\n",
       "FA          9\n",
       "AB          9\n",
       "dtype: int64"
      ]
     },
     "execution_count": 72,
     "metadata": {},
     "output_type": "execute_result"
    }
   ],
   "source": [
    "Df_Merged.groupby('pitch_type').size().sort_values(ascending=False)\n",
    " # type        - Pitch Type: CH=Changeup, CU=Curveball, EP=Eephus*, FC=Cutter, FF=Four-seam Fastball, FO=Pitchout (or PO)\n",
    "                            #  FS=Splitter, FT=2-seam Fastball, IN=Intentional ball, KC=Knuckle curve, KN=Knuckeball, \n",
    "                            #  PO=Pitchout (or FO), SC=Screwball, SI=Sinker, SL=Slider,UN=Unknown\n",
    "            # Some occur rarely -> decrease factors to 3-5 most-frequent + 'Others' \n",
    "\n",
    "# FF = FT -> Fastball\n",
    "# SL\n",
    "# CH\n",
    "# SI\n",
    "# CU\n",
    "# FO = PO -> Pitchout"
   ]
  },
  {
   "cell_type": "code",
   "execution_count": null,
   "metadata": {},
   "outputs": [],
   "source": []
  },
  {
   "cell_type": "code",
   "execution_count": 32,
   "metadata": {},
   "outputs": [
    {
     "data": {
      "text/plain": [
       "9711"
      ]
     },
     "execution_count": 32,
     "metadata": {},
     "output_type": "execute_result"
    }
   ],
   "source": [
    "#Df_Merged\n",
    "len(Df_Merged['g_id'].unique())"
   ]
  },
  {
   "cell_type": "code",
   "execution_count": null,
   "metadata": {},
   "outputs": [],
   "source": []
  },
  {
   "cell_type": "code",
   "execution_count": null,
   "metadata": {},
   "outputs": [],
   "source": []
  }
 ],
 "metadata": {
  "kernelspec": {
   "display_name": "Python 3",
   "language": "python",
   "name": "python3"
  },
  "language_info": {
   "codemirror_mode": {
    "name": "ipython",
    "version": 3
   },
   "file_extension": ".py",
   "mimetype": "text/x-python",
   "name": "python",
   "nbconvert_exporter": "python",
   "pygments_lexer": "ipython3",
   "version": "3.8.5"
  }
 },
 "nbformat": 4,
 "nbformat_minor": 4
}
